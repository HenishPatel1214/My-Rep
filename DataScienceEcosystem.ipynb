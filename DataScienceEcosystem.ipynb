{
 "cells": [
  {
   "cell_type": "markdown",
   "id": "dca64fd5-a208-40f4-b29a-f8d073c2e50c",
   "metadata": {},
   "source": [
    "# Data Science Tools and Ecosystem"
   ]
  },
  {
   "cell_type": "markdown",
   "id": "ff3ba14a-5aab-46a9-b9a9-cb2bb730d836",
   "metadata": {},
   "source": [
    "In this notebook, Data Science Tools and Ecosystem are summarized."
   ]
  },
  {
   "cell_type": "markdown",
   "id": "57ac6d11-6c5e-477c-b162-278dbf4577ef",
   "metadata": {},
   "source": [
    "Some of the popular languages that Data Scientists use are:"
   ]
  },
  {
   "cell_type": "markdown",
   "id": "ba328934-f01b-45c4-8ac6-5c52194be53e",
   "metadata": {},
   "source": [
    "1. Python \n",
    "2. JavaScript \n",
    "3. java \n",
    "4. R \n",
    "5. C/C++ \n",
    "6. SQL \n",
    "7. Matlab \n",
    "8. Scala\n",
    "9. Julia \n",
    "10. SAS"
   ]
  },
  {
   "cell_type": "markdown",
   "id": "2797d61a-01f8-4e6b-8ab9-bb4491db5fd8",
   "metadata": {},
   "source": [
    "Some of the commonly used libraries used by Data Scientists include:"
   ]
  },
  {
   "cell_type": "markdown",
   "id": "5d27c0fd-ba75-425b-be46-7ff74a2805fd",
   "metadata": {},
   "source": [
    "1. Pandas \n",
    "2. SciPy \n",
    "3. NumPy \n",
    "4. Matplotlib \n",
    "5. scikit-learn \n",
    "6. Seaborn \n",
    "7. Scrapy "
   ]
  },
  {
   "cell_type": "markdown",
   "id": "46e1186b-e74d-4b32-b8a7-7b3da150ed56",
   "metadata": {},
   "source": [
    "# Data Science Tools"
   ]
  },
  {
   "cell_type": "markdown",
   "id": "1e9b28e3-39d8-469e-9cfc-84bb00b882ce",
   "metadata": {},
   "source": [
    "### Below are a few examples of evaluating arithmetic expressions in Python"
   ]
  },
  {
   "cell_type": "code",
   "execution_count": 2,
   "id": "13acb462-5908-4f9b-8bbf-7ae45d4fea3d",
   "metadata": {},
   "outputs": [
    {
     "data": {
      "text/plain": [
       "17"
      ]
     },
     "execution_count": 2,
     "metadata": {},
     "output_type": "execute_result"
    }
   ],
   "source": [
    "\"This a simple arithmetic expression to mutiply then add integers\" \n",
    "(3*4)+5"
   ]
  },
  {
   "cell_type": "code",
   "execution_count": 4,
   "id": "d560b63c-59e8-4aba-98a8-0b009b101164",
   "metadata": {},
   "outputs": [
    {
     "data": {
      "text/plain": [
       "3.3333333333333335"
      ]
     },
     "execution_count": 4,
     "metadata": {},
     "output_type": "execute_result"
    }
   ],
   "source": [
    "\"This will convert 200 minutes to hours by diving by 60\"\n",
    "(200/60)"
   ]
  },
  {
   "cell_type": "markdown",
   "id": "0132ce90-e2d3-4942-8973-cbbbdafc2682",
   "metadata": {},
   "source": [
    "**Objectives:**"
   ]
  },
  {
   "cell_type": "markdown",
   "id": "8185a320-d426-4118-9c4b-ab393f50a0dd",
   "metadata": {},
   "source": [
    "1. *pandas*\n",
    "2. *C/C++*\n",
    "3. *SciPy*\n",
    "4. *Python*\n",
    "5. *JavaScript*"
   ]
  },
  {
   "cell_type": "markdown",
   "id": "2d00e770-503b-4aba-a4f4-11fca1e365f7",
   "metadata": {
    "tags": []
   },
   "source": [
    "## Author\n",
    "Henish Patel"
   ]
  },
  {
   "cell_type": "code",
   "execution_count": null,
   "id": "be319420-70eb-433d-801c-320baafb0c8b",
   "metadata": {},
   "outputs": [],
   "source": []
  }
 ],
 "metadata": {
  "kernelspec": {
   "display_name": "Python",
   "language": "python",
   "name": "conda-env-python-py"
  },
  "language_info": {
   "codemirror_mode": {
    "name": "ipython",
    "version": 3
   },
   "file_extension": ".py",
   "mimetype": "text/x-python",
   "name": "python",
   "nbconvert_exporter": "python",
   "pygments_lexer": "ipython3",
   "version": "3.7.12"
  }
 },
 "nbformat": 4,
 "nbformat_minor": 5
}
